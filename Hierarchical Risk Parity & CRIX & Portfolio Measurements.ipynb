{
 "cells": [
  {
   "cell_type": "code",
   "execution_count": 33,
   "metadata": {},
   "outputs": [],
   "source": [
    "import pandas as pd\n",
    "import numpy as np\n",
    "from scipy.linalg import block_diag\n",
    "from scipy.cluster.hierarchy import linkage,dendrogram\n",
    "from scipy.spatial.distance import squareform\n",
    "import matplotlib.pyplot as plt\n",
    "%matplotlib inline\n",
    "import os\n",
    "\n",
    "import scipy.optimize as sco\n",
    "\n",
    "from scipy.linalg import block_diag\n",
    "from scipy.cluster.hierarchy import linkage\n",
    "from scipy.spatial.distance import squareform"
   ]
  },
  {
   "cell_type": "code",
   "execution_count": 34,
   "metadata": {
    "collapsed": true
   },
   "outputs": [
    {
     "data": {
      "text/plain": [
       "['BTC.csv', 'ETH.csv', 'link.csv', 'ltc.csv', 'USDT.csv', 'XRP.csv']"
      ]
     },
     "execution_count": 34,
     "metadata": {},
     "output_type": "execute_result"
    }
   ],
   "source": [
    "filenames=[i for i in os.listdir('./BK') if i.endswith('.csv')]\n",
    "filenames"
   ]
  },
  {
   "cell_type": "code",
   "execution_count": 35,
   "metadata": {},
   "outputs": [],
   "source": [
    "data=None\n",
    "for f in filenames:\n",
    "    one_data=pd.read_csv('BK/'+f)\n",
    "    one_data=one_data.iloc[:,7:]\n",
    "    one_data.columns=[i.split('.')[-1] for i in one_data.columns]\n",
    "    one_data=one_data[['time','close']]\n",
    "    one_data=one_data.rename(columns={'close':f.split('.')[0]})\n",
    "#     break\n",
    "    if data is None:\n",
    "        data=one_data\n",
    "    else:\n",
    "        data=data.merge(one_data,on=['time'])"
   ]
  },
  {
   "cell_type": "code",
   "execution_count": 36,
   "metadata": {},
   "outputs": [],
   "source": [
    "data=data.set_index('time')\n",
    "data=data.pct_change()"
   ]
  },
  {
   "cell_type": "code",
   "execution_count": 37,
   "metadata": {},
   "outputs": [],
   "source": [
    "data.index=pd.to_datetime(data.index)\n",
    "data=data.replace(np.inf,np.nan).replace(-np.inf,np.nan)\n",
    "data.index.name='DT'"
   ]
  },
  {
   "cell_type": "code",
   "execution_count": 38,
   "metadata": {},
   "outputs": [],
   "source": [
    "def calc_return(df, pct_col='pct_chg'):\n",
    "\n",
    "    df = df.sort_values(by='DT')\n",
    "    r = (df[pct_col] + 1).cumprod().iloc[-1] - 1\n",
    "    return r\n",
    "\n",
    "\n",
    "def calc_yearly_ret(df, pct_col='pct_chg', freq='D'):\n",
    "\n",
    "    freq = freq.lower()\n",
    "    df = df.sort_values(by='DT')\n",
    "    r = (df[pct_col] + 1).cumprod().iloc[-1] - 1\n",
    "    if freq == 'd':\n",
    "        add_days = 1\n",
    "    elif freq == 'w':\n",
    "        add_days = 7\n",
    "    elif freq == 'm':\n",
    "        add_days = 30\n",
    "    else:\n",
    "        raise Exception('周期只能为日、周、月')\n",
    "    time_range = ((df.DT.max() - df.DT.min()).days + add_days) / 365\n",
    "    return np.power((r + 1), 1 / time_range) - 1\n",
    "\n",
    "\n",
    "def calc_yearly_vol(df, pct_col='pct_chg', freq='D'):\n",
    "\n",
    "    freq = freq.lower()\n",
    "    if freq == 'd':\n",
    "        trade_num = 250\n",
    "    elif freq == 'w':\n",
    "        trade_num = 50\n",
    "    elif freq == 'm':\n",
    "        trade_num = 12\n",
    "    else:\n",
    "        raise Exception('周期只能为日、周、月')\n",
    "    # print(df)\n",
    "    return df[pct_col].std() * np.sqrt((trade_num))\n",
    "\n",
    "\n",
    "def calc_sharp(df, pct_col='pct_chg', freq='D'):\n",
    " \n",
    "    yearly_r = calc_yearly_ret(df, pct_col, freq)\n",
    "    yearly_vol = calc_yearly_vol(df, pct_col, freq)\n",
    "    sharp = yearly_r / yearly_vol\n",
    "    return sharp\n",
    "\n",
    "\n",
    "def calc_maxdrawdown(df, pct_col='pct_chg'):\n",
    "\n",
    "    df['net']=(df[pct_col]+1).cumprod()\n",
    "    max_drawdown = (df['net'] / df['net'].expanding().max() - 1).min()\n",
    "    return max_drawdown\n",
    "\n",
    "def calc_var(df,pct_col='pct_chg'):\n",
    "    miu=df[pct_col].mean()\n",
    "    std=df[pct_col].std()\n",
    "    return abs(miu-1.65*std)\n",
    "    \n",
    "    \n",
    "def calc_sta(pct_df):\n",
    "    cols=pct_df.columns[1:]\n",
    "    \n",
    "    sta_df=pd.DataFrame(columns=['Cumulative Return','Yearly Return','Yearly Volatility','Sharpe Ratio','Maximum Drawdown','VaR'],dtype=np.float64)\n",
    "    for i in cols:\n",
    "        ret=calc_return(pct_df,i)\n",
    "        ret_yearly=calc_yearly_ret(pct_df,i)\n",
    "        vol=calc_yearly_vol(pct_df,i)\n",
    "        sharp=calc_sharp(pct_df,i)\n",
    "        mdd=calc_maxdrawdown(pct_df,i)\n",
    "        var=calc_var(pct_df,i)\n",
    "        sta_df.loc[i]=[ret,ret_yearly,vol,sharp,mdd,var]\n",
    "        \n",
    "    return sta_df"
   ]
  },
  {
   "cell_type": "code",
   "execution_count": 39,
   "metadata": {},
   "outputs": [],
   "source": [
    "def calc_w_max_sharp(data):\n",
    "    n=data.shape[1]\n",
    "    ret=data.mean(axis=0)\n",
    "    cov=data.cov()\n",
    "        \n",
    "    def stats(weights):\n",
    "        weights = np.array(weights)\n",
    "        port_returns = np.sum(ret*weights)*244\n",
    "        port_variance = np.sqrt(np.dot(weights.T, np.dot(cov*244,weights)))\n",
    "        return np.array([port_returns, port_variance, port_returns/port_variance])\n",
    "\n",
    "    def min_sharpe(weights):\n",
    "        return -stats(weights)[2]\n",
    "\n",
    "    x0 = n*[1./n]\n",
    "\n",
    "    bnds = tuple((0.05,1) for x in range(n))\n",
    "\n",
    "    cons = ({'type':'eq', 'fun':lambda x: np.sum(x)-1})\n",
    "           \n",
    "    opts = sco.minimize(min_sharpe,\n",
    "                        x0, \n",
    "                        method = 'SLSQP', \n",
    "                        bounds = bnds, \n",
    "                        constraints = cons)\n",
    "    return opts.x\n",
    "\n",
    "def calc_w_min_variance(data):\n",
    "    n=data.shape[1]\n",
    "    ret=data.mean(axis=0)\n",
    "    cov=data.cov()\n",
    "        \n",
    "    def stats(weights):\n",
    "        weights = np.array(weights)\n",
    "        port_returns = np.sum(ret*weights)*244\n",
    "        port_variance = np.sqrt(np.dot(weights.T, np.dot(cov*244,weights)))\n",
    "        return np.array([port_returns, port_variance, port_returns/port_variance])\n",
    "\n",
    "    def min_sharpe(weights):\n",
    "        return stats(weights)[1]\n",
    "\n",
    "    x0 = n*[1./n]\n",
    "\n",
    "    bnds = tuple((0.05,1) for x in range(n))\n",
    "\n",
    "    cons = ({'type':'eq', 'fun':lambda x: np.sum(x)-1})\n",
    "           \n",
    "    opts = sco.minimize(min_sharpe,\n",
    "                        x0, \n",
    "                        method = 'SLSQP', \n",
    "                        bounds = bnds, \n",
    "                        constraints = cons)\n",
    "    return opts.x"
   ]
  },
  {
   "cell_type": "code",
   "execution_count": 40,
   "metadata": {},
   "outputs": [],
   "source": [
    "\n",
    "def seriation(Z, N, cur_index):\n",
    "    if cur_index < N:\n",
    "        return [cur_index]\n",
    "    else:\n",
    "        left = int(Z[cur_index - N, 0])\n",
    "        right = int(Z[cur_index - N, 1])\n",
    "        return (seriation(Z, N, left) + seriation(Z, N, right))\n",
    "\n",
    "def compute_serial_matrix(dist_mat, method=\"ward\"):\n",
    "    N = len(dist_mat)\n",
    "    flat_dist_mat = squareform(dist_mat)\n",
    "    res_linkage = linkage(flat_dist_mat, method=method)\n",
    "    res_order = seriation(res_linkage, N, N + N - 2)\n",
    "    seriated_dist = np.zeros((N, N))\n",
    "    a,b = np.triu_indices(N, k=1)\n",
    "    seriated_dist[a,b] = dist_mat[[res_order[i] for i in a], [res_order[j] for j in b]]\n",
    "    seriated_dist[b,a] = seriated_dist[a,b]\n",
    "    \n",
    "    return seriated_dist, res_order, res_linkage    \n",
    "\n",
    "def compute_HRP_weights(covariances, res_order):\n",
    "    weights = pd.Series([1]*len(res_order), index=res_order)\n",
    "    clustered_alphas = [res_order]\n",
    "\n",
    "    while len(clustered_alphas) > 0:\n",
    "        clustered_alphas = [cluster[start:end] for cluster in clustered_alphas\n",
    "                            for start, end in ((0, len(cluster) // 2),\n",
    "                                               (len(cluster) // 2, len(cluster)))\n",
    "                            if len(cluster) > 1]\n",
    "        for subcluster in range(0, len(clustered_alphas), 2):\n",
    "            left_cluster = clustered_alphas[subcluster]\n",
    "            right_cluster = clustered_alphas[subcluster + 1]\n",
    "\n",
    "            left_subcovar = covariances[left_cluster].loc[left_cluster]\n",
    "            inv_diag = 1 / np.diag(left_subcovar.values)\n",
    "            parity_w = inv_diag * (1 / np.sum(inv_diag))\n",
    "            left_cluster_var = np.dot(parity_w, np.dot(left_subcovar, parity_w))\n",
    "\n",
    "            right_subcovar = covariances[right_cluster].loc[right_cluster]\n",
    "            inv_diag = 1 / np.diag(right_subcovar.values)\n",
    "            parity_w = inv_diag * (1 / np.sum(inv_diag))\n",
    "            right_cluster_var = np.dot(parity_w, np.dot(right_subcovar, parity_w))\n",
    "\n",
    "            alloc_factor = 1 - left_cluster_var / (left_cluster_var + right_cluster_var)\n",
    "\n",
    "            weights[left_cluster] *= alloc_factor\n",
    "            weights[right_cluster] *= 1 - alloc_factor\n",
    "            \n",
    "    return weights"
   ]
  },
  {
   "cell_type": "code",
   "execution_count": 43,
   "metadata": {},
   "outputs": [],
   "source": [
    "estimate_correl=data.dropna().corr()\n",
    "estimate_covar=data.dropna().cov()\n",
    "distances = np.sqrt((1 - estimate_correl) / 2)\n",
    "ordered_dist_mat, res_order, res_linkage = compute_serial_matrix(distances.values, method='single')\n",
    "estimate_covar.columns=range(6)\n",
    "estimate_covar.index=range(6)\n",
    "hrp_weight=compute_HRP_weights(estimate_covar,res_order).values"
   ]
  },
  {
   "cell_type": "code",
   "execution_count": 44,
   "metadata": {
    "collapsed": true
   },
   "outputs": [
    {
     "data": {
      "text/plain": [
       "1"
      ]
     },
     "execution_count": 44,
     "metadata": {},
     "output_type": "execute_result"
    },
    {
     "data": {
      "image/png": "[encoded data removed]",
      "text/plain": [
       "<Figure size 1800x720 with 1 Axes>"
      ]
     },
     "metadata": {
      "needs_background": "light"
     },
     "output_type": "display_data"
    }
   ],
   "source": [
    "plt.figure(figsize=(25,10))\n",
    "flt_dis=squareform(distances)\n",
    "res_linkage=linkage(flt_dis,'single')\n",
    "dendrogram(res_linkage,labels=distances.index)\n",
    "1"
   ]
  },
  {
   "cell_type": "code",
   "execution_count": 45,
   "metadata": {},
   "outputs": [],
   "source": [
    "max_sharp_weight=calc_w_max_sharp(data.dropna())\n",
    "min_variance_weight=calc_w_min_variance(data.dropna())\n",
    "equal_weight=np.array([1/data.shape[1]]*data.shape[1])"
   ]
  },
  {
   "cell_type": "code",
   "execution_count": 76,
   "metadata": {},
   "outputs": [],
   "source": [
    "bnb=pd.read_excel('./BK/bnb.xlsx')\n",
    "tether=pd.read_excel('./BK/tether.xlsx')"
   ]
  },
  {
   "cell_type": "code",
   "execution_count": 77,
   "metadata": {},
   "outputs": [],
   "source": [
    "bnb=bnb[['Date','Close**']].sort_values(by='Date')\n",
    "bnb.columns=['DT','BNB']\n",
    "bnb=bnb.set_index('DT')\n",
    "tether=tether[['Date','Close**']].sort_values(by='Date')\n",
    "tether.columns=['DT','tether']\n",
    "tether=tether.set_index('DT')\n",
    "CRIX=data[['BTC','ETH','USDT']].merge(bnb.merge(tether,left_index=True,right_index=True).pct_change(),left_index=True,right_index=True)\n",
    "crix_weight=np.array([0.6266,0.2415,0.0256,0.0458,0.0604])\n",
    "CRIX=pd.DataFrame((CRIX*crix_weight).sum(axis=1),columns=['CRIX']).reset_index()"
   ]
  },
  {
   "cell_type": "code",
   "execution_count": 78,
   "metadata": {},
   "outputs": [],
   "source": [
    "max_sharp_portfolio=pd.DataFrame((data*max_sharp_weight).sum(axis=1),columns=['max_sharp']).reset_index()\n",
    "min_variance_portfolio=pd.DataFrame((data*min_variance_weight).sum(axis=1),columns=['min_variance']).reset_index()\n",
    "equal_portfolio=pd.DataFrame((data*equal_weight).sum(axis=1),columns=['euqal_weight']).reset_index()\n",
    "hrp_portfolio=pd.DataFrame((data*hrp_weight).sum(axis=1),columns=['hrp_weight']).reset_index()"
   ]
  },
  {
   "cell_type": "code",
   "execution_count": 81,
   "metadata": {
    "collapsed": true
   },
   "outputs": [
    {
     "data": {
      "text/plain": [
       "array([9.99196710e-01, 8.88087988e-05, 4.30319396e-04, 1.01176405e-04,\n",
       "       1.00377466e-04, 8.26082295e-05])"
      ]
     },
     "execution_count": 81,
     "metadata": {},
     "output_type": "execute_result"
    }
   ],
   "source": [
    "hrp_weight"
   ]
  },
  {
   "cell_type": "code",
   "execution_count": 79,
   "metadata": {},
   "outputs": [],
   "source": [
    "ret_data=max_sharp_portfolio.merge(min_variance_portfolio,on=['DT']).merge(equal_portfolio,on=['DT']).merge(hrp_portfolio,on=['DT']).merge(CRIX,on=['DT'])"
   ]
  },
  {
   "cell_type": "code",
   "execution_count": 80,
   "metadata": {
    "collapsed": true
   },
   "outputs": [
    {
     "data": {
      "text/html": [
       "<div>\n",
       "<style scoped>\n",
       "    .dataframe tbody tr th:only-of-type {\n",
       "        vertical-align: middle;\n",
       "    }\n",
       "\n",
       "    .dataframe tbody tr th {\n",
       "        vertical-align: top;\n",
       "    }\n",
       "\n",
       "    .dataframe thead th {\n",
       "        text-align: right;\n",
       "    }\n",
       "</style>\n",
       "<table border=\"1\" class=\"dataframe\">\n",
       "  <thead>\n",
       "    <tr style=\"text-align: right;\">\n",
       "      <th></th>\n",
       "      <th>累计收益</th>\n",
       "      <th>年化收益</th>\n",
       "      <th>年化波动</th>\n",
       "      <th>夏普比率</th>\n",
       "      <th>最大回撤</th>\n",
       "      <th>VaR</th>\n",
       "    </tr>\n",
       "  </thead>\n",
       "  <tbody>\n",
       "    <tr>\n",
       "      <th>max_sharp</th>\n",
       "      <td>8.363792</td>\n",
       "      <td>6.507682</td>\n",
       "      <td>0.735335</td>\n",
       "      <td>8.849960</td>\n",
       "      <td>-0.544225</td>\n",
       "      <td>0.070106</td>\n",
       "    </tr>\n",
       "    <tr>\n",
       "      <th>min_variance</th>\n",
       "      <td>0.771255</td>\n",
       "      <td>0.674016</td>\n",
       "      <td>0.204871</td>\n",
       "      <td>3.289945</td>\n",
       "      <td>-0.188250</td>\n",
       "      <td>0.019883</td>\n",
       "    </tr>\n",
       "    <tr>\n",
       "      <th>euqal_weight</th>\n",
       "      <td>4.103266</td>\n",
       "      <td>3.344475</td>\n",
       "      <td>0.686726</td>\n",
       "      <td>4.870173</td>\n",
       "      <td>-0.550288</td>\n",
       "      <td>0.066676</td>\n",
       "    </tr>\n",
       "    <tr>\n",
       "      <th>hrp_weight</th>\n",
       "      <td>4.084703</td>\n",
       "      <td>3.330230</td>\n",
       "      <td>0.623237</td>\n",
       "      <td>5.343439</td>\n",
       "      <td>-0.530781</td>\n",
       "      <td>0.060244</td>\n",
       "    </tr>\n",
       "    <tr>\n",
       "      <th>CRIX</th>\n",
       "      <td>5.768956</td>\n",
       "      <td>4.603958</td>\n",
       "      <td>0.595224</td>\n",
       "      <td>7.734835</td>\n",
       "      <td>-0.469080</td>\n",
       "      <td>0.056672</td>\n",
       "    </tr>\n",
       "  </tbody>\n",
       "</table>\n",
       "</div>"
      ],
      "text/plain": [
       "                  累计收益      年化收益      年化波动      夏普比率      最大回撤       VaR\n",
       "max_sharp     8.363792  6.507682  0.735335  8.849960 -0.544225  0.070106\n",
       "min_variance  0.771255  0.674016  0.204871  3.289945 -0.188250  0.019883\n",
       "euqal_weight  4.103266  3.344475  0.686726  4.870173 -0.550288  0.066676\n",
       "hrp_weight    4.084703  3.330230  0.623237  5.343439 -0.530781  0.060244\n",
       "CRIX          5.768956  4.603958  0.595224  7.734835 -0.469080  0.056672"
      ]
     },
     "execution_count": 80,
     "metadata": {},
     "output_type": "execute_result"
    }
   ],
   "source": [
    "calc_sta(ret_data)"
   ]
  },
  {
   "cell_type": "code",
   "execution_count": 96,
   "metadata": {},
   "outputs": [],
   "source": [
    "ret_data.DT=pd.to_datetime(ret_data.DT)"
   ]
  },
  {
   "cell_type": "code",
   "execution_count": 103,
   "metadata": {},
   "outputs": [],
   "source": [
    "plot_data=(ret_data.set_index('DT')[['hrp_weight','CRIX']]+1).cumprod()"
   ]
  },
  {
   "cell_type": "code",
   "execution_count": 108,
   "metadata": {
    "collapsed": true
   },
   "outputs": [
    {
     "data": {
      "text/plain": [
       "<matplotlib.legend.Legend at 0x1904cde9a58>"
      ]
     },
     "execution_count": 108,
     "metadata": {},
     "output_type": "execute_result"
    },
    {
     "data": {
      "image/png": "[encoded data removed]",
      "text/plain": [
       "<Figure size 1152x432 with 1 Axes>"
      ]
     },
     "metadata": {
      "needs_background": "light"
     },
     "output_type": "display_data"
    }
   ],
   "source": [
    "plt.figure(figsize=(16,6))\n",
    "plt.plot(plot_data['hrp_weight'],label='hrp')\n",
    "plt.plot(plot_data['CRIX'],label='crix')\n",
    "plt.legend()"
   ]
  }
 ],
 "metadata": {
  "kernelspec": {
   "display_name": "Python 3",
   "language": "python",
   "name": "python3"
  },
  "language_info": {
   "codemirror_mode": {
    "name": "ipython",
    "version": 3
   },
   "file_extension": ".py",
   "mimetype": "text/x-python",
   "name": "python",
   "nbconvert_exporter": "python",
   "pygments_lexer": "ipython3",
   "version": "3.8.5"
  }
 },
 "nbformat": 4,
 "nbformat_minor": 5
}
