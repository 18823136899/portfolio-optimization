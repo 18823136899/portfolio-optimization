{
 "cells": [
  {
   "cell_type": "code",
   "execution_count": 1,
   "metadata": {
    "collapsed": true
   },
   "outputs": [
    {
     "name": "stdout",
     "output_type": "stream",
     "text": [
      "BNB 2271764101.696429 30911467883.857143 0.012787797744472069 0.033934168126033136\n",
      "btc 48847737056.21429 627411310334.5298 0.27496472071354755 0.6887631790590342\n",
      "eth 26070972128.470238 171975390594.6012 0.14675393379606988 0.1887921285363824\n",
      "link 2425733740.0208335 8803926949.386906 0.013654495388039777 0.00966482531312682\n",
      "ltc 5151693664.241072 9604072589.104166 0.028998968938103362 0.010543213772888627\n",
      "usdt 85887748280.37798 35598370320.38988 0.4834635572053634 0.03907938270688695\n",
      "xrp 6995276316.601191 26620042389.03869 0.039376526214404094 0.02922310248564779\n"
     ]
    }
   ],
   "source": [
    "import matplotlib.pyplot as plt\n",
    "from pandas import read_excel\n",
    "import numpy as np\n",
    "import pandas as pd\n",
    "StockVolume = pd.DataFrame()\n",
    "stdata=pd.DataFrame()\n",
    "market_value_list=[]  \n",
    "\n",
    "ticker_list = ['BNB','btc','eth','link','ltc','usdt','xrp']\n",
    "tot=0\n",
    "tot1=0\n",
    "tot2=0\n",
    "for ticker in ticker_list:\n",
    "    stdata = read_excel(ticker+'.xlsx')\n",
    "    \n",
    "  #  print ( stdata.loc[(stdata['Date']>=pd.to_datetime('20200831')) & (stdata['Date']<=pd.to_datetime('20210801'))])\n",
    "    stdata_cut= stdata.loc[(stdata['Date']>=pd.to_datetime('20200831')) & (stdata['Date']<=pd.to_datetime('20210801'))]\n",
    "    tot1= tot1 + stdata_cut['Volume'].mean()\n",
    "    tot2= tot2 + stdata_cut['Market Cap'].mean()\n",
    "for ticker in ticker_list:\n",
    "    stdata = read_excel(ticker+'.xlsx')\n",
    "    \n",
    "  #  print ( stdata.loc[(stdata['Date']>=pd.to_datetime('20200831')) & (stdata['Date']<=pd.to_datetime('20210801'))])\n",
    "    stdata_cut= stdata.loc[(stdata['Date']>=pd.to_datetime('20200831')) & (stdata['Date']<=pd.to_datetime('20210801'))]\n",
    "   \n",
    "    \n",
    "    print (ticker,stdata_cut['Volume'].mean(),stdata_cut['Market Cap'].mean(),stdata_cut['Volume'].mean()/tot1,stdata_cut['Market Cap'].mean()/tot2)\n",
    "\n",
    "\n",
    "    "
   ]
  }
 ],
 "metadata": {
  "kernelspec": {
   "display_name": "Python 3",
   "language": "python",
   "name": "python3"
  },
  "language_info": {
   "codemirror_mode": {
    "name": "ipython",
    "version": 3
   },
   "file_extension": ".py",
   "mimetype": "text/x-python",
   "name": "python",
   "nbconvert_exporter": "python",
   "pygments_lexer": "ipython3",
   "version": "3.8.5"
  }
 },
 "nbformat": 4,
 "nbformat_minor": 5
}
